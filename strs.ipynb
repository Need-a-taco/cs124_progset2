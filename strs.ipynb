{
 "cells": [
  {
   "cell_type": "code",
   "execution_count": 1,
   "metadata": {},
   "outputs": [],
   "source": [
    "import numpy as np\n",
    "import matplotlib.pyplot as plt\n",
    "import time\n",
    "import random"
   ]
  },
  {
   "cell_type": "code",
   "execution_count": null,
   "metadata": {},
   "outputs": [],
   "source": [
    "pip install matplotlib"
   ]
  },
  {
   "cell_type": "code",
   "execution_count": null,
   "metadata": {},
   "outputs": [],
   "source": [
    "import numpy as np"
   ]
  },
  {
   "cell_type": "code",
   "execution_count": null,
   "metadata": {},
   "outputs": [],
   "source": [
    "\n",
    "def get_matrix_block(mat, x0, x1, y0, y1):\n",
    "        matrix_block = []\n",
    "        for i in range(x0, x1):\n",
    "            new_row = []\n",
    "            for j in range(y0, y1):    \n",
    "                new_row.append(mat[i][j])\n",
    "            matrix_block.append(new_row)\n",
    "        return matrix_block\n",
    "\n",
    "def mergeblocks(upleft, upright, downleft, downright):\n",
    "    new_mat = []\n",
    "    for i in range(len(upleft)):\n",
    "        new_mat.append(upleft[i] + upright[i])\n",
    "    \n",
    "    for i in range(len(downleft)):\n",
    "        new_mat.append(downleft[i] + downright[i])\n",
    "        \n",
    "    return new_mat\n",
    "\n",
    "def pad_matrix(mat):\n",
    "    for row in mat:\n",
    "        row.append(0)\n",
    "    new_row_length = len(mat[0])  # This now includes the newly added column of zeros.\n",
    "    mat.append([0] * new_row_length)\n",
    "    return mat\n",
    "\n",
    "def matrix_addition(mat1, mat2):\n",
    "    new_mat = []\n",
    "    n = len(mat1)\n",
    "    for i in range(n):\n",
    "        new_row = []\n",
    "        for j in range(n):\n",
    "            new_row.append(mat1[i][j] + mat2[i][j])\n",
    "        new_mat.append(new_row)\n",
    "    return new_mat\n",
    "\n",
    "def matrix_subtraction(mat1, mat2):\n",
    "    new_mat = []\n",
    "    n = len(mat1)\n",
    "    for i in range(n):\n",
    "        new_row = []\n",
    "        for j in range(n):\n",
    "            new_row.append(mat1[i][j] - mat2[i][j])\n",
    "        new_mat.append(new_row)\n",
    "    return new_mat\n",
    "\n",
    "#############################################################\n",
    "#                                                           #\n",
    "# Now onto the actual matrix multiplication implementations #\n",
    "#                                                           #\n",
    "#############################################################\n",
    "\n",
    "def conventional_matmult(mat1, mat2):\n",
    "    new_mat = []\n",
    "    n = len(mat1[0])\n",
    "    for i in range(n):\n",
    "        new_row = []\n",
    "        for j in range(n):\n",
    "            sum = 0\n",
    "            for k in range(n):\n",
    "                sum += mat1[i][k] * mat2[k][j]       \n",
    "            new_row.append(sum)    \n",
    "        new_mat.append(new_row)\n",
    "    return new_mat\n",
    "\n",
    "def strassen_matmult(mat1, mat2, threshold):\n",
    "    init_len = len(mat1)\n",
    "    if (init_len <= threshold):\n",
    "        mat_prod = conventional_matmult(mat1, mat2)\n",
    "        return mat_prod\n",
    "    if init_len % 2 == 1:\n",
    "        mat1 = pad_matrix(mat1)\n",
    "        mat2 = pad_matrix(mat2)\n",
    "    # Establish an arbitrary base case. To be adjusted\n",
    "\n",
    "        \n",
    "    \n",
    "    # --- Divide the matrices into blocks --- #\n",
    "    n = len(mat1)\n",
    "    x = y = (n / 2)\n",
    "    x = int(x)\n",
    "    y = int(y)\n",
    "    \n",
    "    a = get_matrix_block(mat1, 0, x, 0, y)\n",
    "    e = get_matrix_block(mat2, 0, x, 0, y) # Upper right blocks\n",
    "    \n",
    "    b = get_matrix_block(mat1, 0, x, y, n)\n",
    "    f = get_matrix_block(mat2, 0, x, y, n) # Upper left blocks\n",
    "    \n",
    "    c = get_matrix_block(mat1, x, n, 0, y)\n",
    "    g = get_matrix_block(mat2, x, n, 0, y) # Lower left blocks\n",
    "    \n",
    "    d = get_matrix_block(mat1, x, n, y, n)\n",
    "    h = get_matrix_block(mat2, x, n, y, n) # Lower right blocks\n",
    "\n",
    "    \n",
    "    # --- Calculate multiplication with only 7 variables --- # \n",
    "    p1 = strassen_matmult(a, matrix_subtraction(f, h), threshold)\n",
    "    p2 = strassen_matmult(matrix_addition(a, b), h, threshold)\n",
    "    p3 = strassen_matmult(matrix_addition(c, d), e, threshold)\n",
    "    p4 = strassen_matmult(d, matrix_subtraction(g, e), threshold)\n",
    "    p5 = strassen_matmult(matrix_addition(a, d), matrix_addition(e, h), threshold)\n",
    "    p6 = strassen_matmult(matrix_subtraction(b, d), matrix_addition(g, h), threshold)\n",
    "    p7 = strassen_matmult(matrix_subtraction(a, c), matrix_addition(e, f), threshold)\n",
    "\n",
    "    # --- Calculate the new blocks with these 7 variables --- #\n",
    "    \n",
    "    upleft_block = matrix_addition(matrix_subtraction(matrix_addition(p5, p4), p2), p6)\n",
    "    upright_block = matrix_addition(p1, p2)\n",
    "    downleft_block = matrix_addition(p3, p4)\n",
    "    downright_block = matrix_subtraction(matrix_subtraction(matrix_addition(p1, p5), p3), p7)\n",
    "    \n",
    "    # Merge the new blocks\n",
    "    matmult = mergeblocks(upleft_block, upright_block, \n",
    "                          downleft_block, downright_block)\n",
    "    \n",
    "    return matmult"
   ]
  },
  {
   "cell_type": "code",
   "execution_count": null,
   "metadata": {},
   "outputs": [],
   "source": [
    "def testing_threshold():\n",
    "    stras_list = []\n",
    "    conv_list = []\n",
    "    for dim in range(1, 5):\n",
    "        matrix =[[random.randint(1,10) for _ in range(dim)] for _ in range(dim)]\n",
    "        print(matrix)\n",
    "        #strassens\n",
    "        stras_avg_runtime = 0\n",
    "        for _ in range(5):\n",
    "            start = time.time()\n",
    "            \n",
    "            matmult = strassen_matmult(matrix, matrix, ((dim // 2) +1))\n",
    "            if dim % 2 == 1:\n",
    "                matmult = [row[:dim] for row in matmult[:dim]]\n",
    "            end = time.time()\n",
    "            stras_avg_runtime += (end - start)\n",
    "        stras_avg_runtime /= 5\n",
    "        \n",
    "        stras_list.append(stras_avg_runtime)\n",
    "        \n",
    "        #conventional\n",
    "        conv_avg_runtime = 0\n",
    "        for _ in range(5):\n",
    "            start = time.time()\n",
    "            matmult = conventional_matmult(matrix, matrix)\n",
    "            end = time.time()\n",
    "            conv_avg_runtime += (end - start)\n",
    "        conv_avg_runtime /= 5\n",
    "        conv_list.append(conv_avg_runtime)\n",
    "    return stras_list, conv_list"
   ]
  },
  {
   "cell_type": "code",
   "execution_count": null,
   "metadata": {},
   "outputs": [
    {
     "name": "stdout",
     "output_type": "stream",
     "text": [
      "[[4]]\n"
     ]
    },
    {
     "ename": "RecursionError",
     "evalue": "maximum recursion depth exceeded in comparison",
     "output_type": "error",
     "traceback": [
      "\u001b[0;31m---------------------------------------------------------------------------\u001b[0m",
      "\u001b[0;31mRecursionError\u001b[0m                            Traceback (most recent call last)",
      "\u001b[1;32m/Users/pedrogarcia/cs124_progset2/strs.ipynb Cell 6\u001b[0m line \u001b[0;36m1\n\u001b[0;32m----> <a href='vscode-notebook-cell:/Users/pedrogarcia/cs124_progset2/strs.ipynb#X21sZmlsZQ%3D%3D?line=0'>1</a>\u001b[0m stras_list, conv_list \u001b[39m=\u001b[39m testing_threshold()\n\u001b[1;32m      <a href='vscode-notebook-cell:/Users/pedrogarcia/cs124_progset2/strs.ipynb#X21sZmlsZQ%3D%3D?line=1'>2</a>\u001b[0m \u001b[39mprint\u001b[39m(stras_list)\n",
      "\u001b[1;32m/Users/pedrogarcia/cs124_progset2/strs.ipynb Cell 6\u001b[0m line \u001b[0;36m1\n\u001b[1;32m      <a href='vscode-notebook-cell:/Users/pedrogarcia/cs124_progset2/strs.ipynb#X21sZmlsZQ%3D%3D?line=8'>9</a>\u001b[0m \u001b[39mfor\u001b[39;00m _ \u001b[39min\u001b[39;00m \u001b[39mrange\u001b[39m(\u001b[39m5\u001b[39m):\n\u001b[1;32m     <a href='vscode-notebook-cell:/Users/pedrogarcia/cs124_progset2/strs.ipynb#X21sZmlsZQ%3D%3D?line=9'>10</a>\u001b[0m     start \u001b[39m=\u001b[39m time\u001b[39m.\u001b[39mtime()\n\u001b[0;32m---> <a href='vscode-notebook-cell:/Users/pedrogarcia/cs124_progset2/strs.ipynb#X21sZmlsZQ%3D%3D?line=10'>11</a>\u001b[0m     matmult \u001b[39m=\u001b[39m strassen_matmult(matrix, matrix, ((dim \u001b[39m/\u001b[39;49m\u001b[39m/\u001b[39;49m \u001b[39m2\u001b[39;49m) \u001b[39m+\u001b[39;49m\u001b[39m1\u001b[39;49m))\n\u001b[1;32m     <a href='vscode-notebook-cell:/Users/pedrogarcia/cs124_progset2/strs.ipynb#X21sZmlsZQ%3D%3D?line=11'>12</a>\u001b[0m     \u001b[39mif\u001b[39;00m dim \u001b[39m%\u001b[39m \u001b[39m2\u001b[39m \u001b[39m==\u001b[39m \u001b[39m1\u001b[39m:\n\u001b[1;32m     <a href='vscode-notebook-cell:/Users/pedrogarcia/cs124_progset2/strs.ipynb#X21sZmlsZQ%3D%3D?line=12'>13</a>\u001b[0m         matmult \u001b[39m=\u001b[39m [row[:dim] \u001b[39mfor\u001b[39;00m row \u001b[39min\u001b[39;00m matmult[:dim]]\n",
      "\u001b[1;32m/Users/pedrogarcia/cs124_progset2/strs.ipynb Cell 6\u001b[0m line \u001b[0;36m9\n\u001b[1;32m     <a href='vscode-notebook-cell:/Users/pedrogarcia/cs124_progset2/strs.ipynb#X21sZmlsZQ%3D%3D?line=90'>91</a>\u001b[0m h \u001b[39m=\u001b[39m get_matrix_block(mat2, x, n, y, n) \u001b[39m# Lower right blocks\u001b[39;00m\n\u001b[1;32m     <a href='vscode-notebook-cell:/Users/pedrogarcia/cs124_progset2/strs.ipynb#X21sZmlsZQ%3D%3D?line=93'>94</a>\u001b[0m \u001b[39m# --- Calculate multiplication with only 7 variables --- # \u001b[39;00m\n\u001b[0;32m---> <a href='vscode-notebook-cell:/Users/pedrogarcia/cs124_progset2/strs.ipynb#X21sZmlsZQ%3D%3D?line=94'>95</a>\u001b[0m p1 \u001b[39m=\u001b[39m strassen_matmult(a, matrix_subtraction(f, h), threshold)\n\u001b[1;32m     <a href='vscode-notebook-cell:/Users/pedrogarcia/cs124_progset2/strs.ipynb#X21sZmlsZQ%3D%3D?line=95'>96</a>\u001b[0m p2 \u001b[39m=\u001b[39m strassen_matmult(matrix_addition(a, b), h, threshold)\n\u001b[1;32m     <a href='vscode-notebook-cell:/Users/pedrogarcia/cs124_progset2/strs.ipynb#X21sZmlsZQ%3D%3D?line=96'>97</a>\u001b[0m p3 \u001b[39m=\u001b[39m strassen_matmult(matrix_addition(c, d), e, threshold)\n",
      "\u001b[1;32m/Users/pedrogarcia/cs124_progset2/strs.ipynb Cell 6\u001b[0m line \u001b[0;36m9\n\u001b[1;32m     <a href='vscode-notebook-cell:/Users/pedrogarcia/cs124_progset2/strs.ipynb#X21sZmlsZQ%3D%3D?line=90'>91</a>\u001b[0m h \u001b[39m=\u001b[39m get_matrix_block(mat2, x, n, y, n) \u001b[39m# Lower right blocks\u001b[39;00m\n\u001b[1;32m     <a href='vscode-notebook-cell:/Users/pedrogarcia/cs124_progset2/strs.ipynb#X21sZmlsZQ%3D%3D?line=93'>94</a>\u001b[0m \u001b[39m# --- Calculate multiplication with only 7 variables --- # \u001b[39;00m\n\u001b[0;32m---> <a href='vscode-notebook-cell:/Users/pedrogarcia/cs124_progset2/strs.ipynb#X21sZmlsZQ%3D%3D?line=94'>95</a>\u001b[0m p1 \u001b[39m=\u001b[39m strassen_matmult(a, matrix_subtraction(f, h), threshold)\n\u001b[1;32m     <a href='vscode-notebook-cell:/Users/pedrogarcia/cs124_progset2/strs.ipynb#X21sZmlsZQ%3D%3D?line=95'>96</a>\u001b[0m p2 \u001b[39m=\u001b[39m strassen_matmult(matrix_addition(a, b), h, threshold)\n\u001b[1;32m     <a href='vscode-notebook-cell:/Users/pedrogarcia/cs124_progset2/strs.ipynb#X21sZmlsZQ%3D%3D?line=96'>97</a>\u001b[0m p3 \u001b[39m=\u001b[39m strassen_matmult(matrix_addition(c, d), e, threshold)\n",
      "    \u001b[0;31m[... skipping similar frames: strassen_matmult at line 95 (2967 times)]\u001b[0m\n",
      "\u001b[1;32m/Users/pedrogarcia/cs124_progset2/strs.ipynb Cell 6\u001b[0m line \u001b[0;36m9\n\u001b[1;32m     <a href='vscode-notebook-cell:/Users/pedrogarcia/cs124_progset2/strs.ipynb#X21sZmlsZQ%3D%3D?line=90'>91</a>\u001b[0m h \u001b[39m=\u001b[39m get_matrix_block(mat2, x, n, y, n) \u001b[39m# Lower right blocks\u001b[39;00m\n\u001b[1;32m     <a href='vscode-notebook-cell:/Users/pedrogarcia/cs124_progset2/strs.ipynb#X21sZmlsZQ%3D%3D?line=93'>94</a>\u001b[0m \u001b[39m# --- Calculate multiplication with only 7 variables --- # \u001b[39;00m\n\u001b[0;32m---> <a href='vscode-notebook-cell:/Users/pedrogarcia/cs124_progset2/strs.ipynb#X21sZmlsZQ%3D%3D?line=94'>95</a>\u001b[0m p1 \u001b[39m=\u001b[39m strassen_matmult(a, matrix_subtraction(f, h), threshold)\n\u001b[1;32m     <a href='vscode-notebook-cell:/Users/pedrogarcia/cs124_progset2/strs.ipynb#X21sZmlsZQ%3D%3D?line=95'>96</a>\u001b[0m p2 \u001b[39m=\u001b[39m strassen_matmult(matrix_addition(a, b), h, threshold)\n\u001b[1;32m     <a href='vscode-notebook-cell:/Users/pedrogarcia/cs124_progset2/strs.ipynb#X21sZmlsZQ%3D%3D?line=96'>97</a>\u001b[0m p3 \u001b[39m=\u001b[39m strassen_matmult(matrix_addition(c, d), e, threshold)\n",
      "\u001b[1;32m/Users/pedrogarcia/cs124_progset2/strs.ipynb Cell 6\u001b[0m line \u001b[0;36m8\n\u001b[1;32m     <a href='vscode-notebook-cell:/Users/pedrogarcia/cs124_progset2/strs.ipynb#X21sZmlsZQ%3D%3D?line=77'>78</a>\u001b[0m x \u001b[39m=\u001b[39m \u001b[39mint\u001b[39m(x)\n\u001b[1;32m     <a href='vscode-notebook-cell:/Users/pedrogarcia/cs124_progset2/strs.ipynb#X21sZmlsZQ%3D%3D?line=78'>79</a>\u001b[0m y \u001b[39m=\u001b[39m \u001b[39mint\u001b[39m(y)\n\u001b[0;32m---> <a href='vscode-notebook-cell:/Users/pedrogarcia/cs124_progset2/strs.ipynb#X21sZmlsZQ%3D%3D?line=80'>81</a>\u001b[0m a \u001b[39m=\u001b[39m get_matrix_block(mat1, \u001b[39m0\u001b[39;49m, x, \u001b[39m0\u001b[39;49m, y)\n\u001b[1;32m     <a href='vscode-notebook-cell:/Users/pedrogarcia/cs124_progset2/strs.ipynb#X21sZmlsZQ%3D%3D?line=81'>82</a>\u001b[0m e \u001b[39m=\u001b[39m get_matrix_block(mat2, \u001b[39m0\u001b[39m, x, \u001b[39m0\u001b[39m, y) \u001b[39m# Upper right blocks\u001b[39;00m\n\u001b[1;32m     <a href='vscode-notebook-cell:/Users/pedrogarcia/cs124_progset2/strs.ipynb#X21sZmlsZQ%3D%3D?line=83'>84</a>\u001b[0m b \u001b[39m=\u001b[39m get_matrix_block(mat1, \u001b[39m0\u001b[39m, x, y, n)\n",
      "\u001b[1;32m/Users/pedrogarcia/cs124_progset2/strs.ipynb Cell 6\u001b[0m line \u001b[0;36m3\n\u001b[1;32m      <a href='vscode-notebook-cell:/Users/pedrogarcia/cs124_progset2/strs.ipynb#X21sZmlsZQ%3D%3D?line=0'>1</a>\u001b[0m \u001b[39mdef\u001b[39;00m \u001b[39mget_matrix_block\u001b[39m(mat, x0, x1, y0, y1):\n\u001b[1;32m      <a href='vscode-notebook-cell:/Users/pedrogarcia/cs124_progset2/strs.ipynb#X21sZmlsZQ%3D%3D?line=1'>2</a>\u001b[0m         matrix_block \u001b[39m=\u001b[39m []\n\u001b[0;32m----> <a href='vscode-notebook-cell:/Users/pedrogarcia/cs124_progset2/strs.ipynb#X21sZmlsZQ%3D%3D?line=2'>3</a>\u001b[0m         \u001b[39mfor\u001b[39;00m i \u001b[39min\u001b[39;00m \u001b[39mrange\u001b[39m(x0, x1):\n\u001b[1;32m      <a href='vscode-notebook-cell:/Users/pedrogarcia/cs124_progset2/strs.ipynb#X21sZmlsZQ%3D%3D?line=3'>4</a>\u001b[0m             new_row \u001b[39m=\u001b[39m []\n\u001b[1;32m      <a href='vscode-notebook-cell:/Users/pedrogarcia/cs124_progset2/strs.ipynb#X21sZmlsZQ%3D%3D?line=4'>5</a>\u001b[0m             \u001b[39mfor\u001b[39;00m j \u001b[39min\u001b[39;00m \u001b[39mrange\u001b[39m(y0, y1):    \n",
      "\u001b[0;31mRecursionError\u001b[0m: maximum recursion depth exceeded in comparison"
     ]
    }
   ],
   "source": [
    "stras_list, conv_list = testing_threshold()\n",
    "print(stras_list)"
   ]
  },
  {
   "cell_type": "code",
   "execution_count": 24,
   "metadata": {},
   "outputs": [
    {
     "name": "stdout",
     "output_type": "stream",
     "text": [
      "[7.2479248046875e-06, 2.0503997802734374e-06]\n"
     ]
    },
    {
     "ename": "TypeError",
     "evalue": "cannot unpack non-iterable NoneType object",
     "output_type": "error",
     "traceback": [
      "\u001b[0;31m---------------------------------------------------------------------------\u001b[0m",
      "\u001b[0;31mTypeError\u001b[0m                                 Traceback (most recent call last)",
      "\u001b[1;32m/Users/pedrogarcia/cs124_progset2/strs.ipynb Cell 7\u001b[0m line \u001b[0;36m1\n\u001b[0;32m----> <a href='vscode-notebook-cell:/Users/pedrogarcia/cs124_progset2/strs.ipynb#W3sZmlsZQ%3D%3D?line=0'>1</a>\u001b[0m stras_list, conv_list \u001b[39m=\u001b[39m testing_threshold()\n\u001b[1;32m      <a href='vscode-notebook-cell:/Users/pedrogarcia/cs124_progset2/strs.ipynb#W3sZmlsZQ%3D%3D?line=1'>2</a>\u001b[0m dimension \u001b[39m=\u001b[39m \u001b[39m512\u001b[39m\n\u001b[1;32m      <a href='vscode-notebook-cell:/Users/pedrogarcia/cs124_progset2/strs.ipynb#W3sZmlsZQ%3D%3D?line=2'>3</a>\u001b[0m dimensions \u001b[39m-\u001b[39m [i \u001b[39mfor\u001b[39;00m i \u001b[39min\u001b[39;00m \u001b[39mrange\u001b[39m(\u001b[39m1\u001b[39m, dimension\u001b[39m+\u001b[39m\u001b[39m1\u001b[39m)]\n",
      "\u001b[0;31mTypeError\u001b[0m: cannot unpack non-iterable NoneType object"
     ]
    }
   ],
   "source": [
    "stras_list, conv_list = testing_threshold()\n",
    "dimension = 512"
   ]
  },
  {
   "cell_type": "code",
   "execution_count": null,
   "metadata": {},
   "outputs": [],
   "source": [
    "print(len(dimensions))\n",
    "print(len(stras_list))"
   ]
  },
  {
   "cell_type": "code",
   "execution_count": null,
   "metadata": {},
   "outputs": [],
   "source": [
    "plt.figure(figsize=(10, 6))\n",
    "plt.plot(dimensions, stras_list, label='Strassen\\'s Method', marker='o')\n",
    "plt.plot(dimensions, conv_list, label='Conventional Method', marker='x')\n",
    "\n",
    "plt.xlabel('Matrix Dimension')\n",
    "plt.ylabel('Average Runtime (seconds)')\n",
    "plt.title('Comparison of Matrix Multiplication Runtimes')\n",
    "plt.legend()\n",
    "plt.grid(True)\n",
    "plt.show()"
   ]
  },
  {
   "cell_type": "code",
   "execution_count": 141,
   "metadata": {},
   "outputs": [],
   "source": [
    "import math\n",
    "\n",
    "def expectation_function(n):\n",
    "    probabilities = [0.01, 0.02, 0.03, 0.04, 0.05]\n",
    "    expectations = []\n",
    "    \n",
    "    for prob in probabilities:\n",
    "        expectation = math.comb(n, 3) * np.power(prob, 3)\n",
    "        expectations.append(expectation)\n",
    "    \n",
    "    return probabilities, expectations\n",
    "\n",
    "def counttriangles(n): \n",
    "    probabilities = [0.01, 0.02, 0.03, 0.04, 0.05]\n",
    "\n",
    "    def count_at_prob(p):\n",
    "        avg_num_triangles = 0\n",
    "        for _ in range(1):\n",
    "            # Create new adjacency matrix\n",
    "            adj_mat = [[0 for _ in range(n)] for _ in range(n)]\n",
    "            for i in range(len(adj_mat)):\n",
    "                for j in range(i+1,len(adj_mat)):\n",
    "                    val = np.random.binomial(1,p)\n",
    "                    adj_mat[i][j] = val\n",
    "                    adj_mat[j][i] = val\n",
    "\n",
    "            # Find the cube of adjacency matrix\n",
    "            adj_mat_cubed = conventional_matmult(adj_mat, conventional_matmult(adj_mat, adj_mat))\n",
    "            num_triangles = 0\n",
    "            for i in range(n):\n",
    "                num_triangles += adj_mat_cubed[i][i]\n",
    "            num_triangles //= 6\n",
    "            avg_num_triangles += num_triangles\n",
    "        return avg_num_triangles\n",
    "\n",
    "    results = []\n",
    "    for prob in probabilities:\n",
    "        result = count_at_prob(prob)\n",
    "        results.append(result)\n",
    "\n",
    "    return probabilities, results"
   ]
  },
  {
   "cell_type": "code",
   "execution_count": 146,
   "metadata": {},
   "outputs": [
    {
     "ename": "KeyboardInterrupt",
     "evalue": "",
     "output_type": "error",
     "traceback": [
      "\u001b[0;31m---------------------------------------------------------------------------\u001b[0m",
      "\u001b[0;31mKeyboardInterrupt\u001b[0m                         Traceback (most recent call last)",
      "\u001b[1;32m/Users/pedrogarcia/cs124_progset2/strs.ipynb Cell 11\u001b[0m line \u001b[0;36m2\n\u001b[1;32m      <a href='vscode-notebook-cell:/Users/pedrogarcia/cs124_progset2/strs.ipynb#X24sZmlsZQ%3D%3D?line=0'>1</a>\u001b[0m expected_probabilities, expected_results \u001b[39m=\u001b[39m expectation_function(\u001b[39m1024\u001b[39m)\n\u001b[0;32m----> <a href='vscode-notebook-cell:/Users/pedrogarcia/cs124_progset2/strs.ipynb#X24sZmlsZQ%3D%3D?line=1'>2</a>\u001b[0m observed_probabilities, observed_results \u001b[39m=\u001b[39m counttriangles(\u001b[39m1024\u001b[39;49m)\n",
      "\u001b[1;32m/Users/pedrogarcia/cs124_progset2/strs.ipynb Cell 11\u001b[0m line \u001b[0;36m3\n\u001b[1;32m     <a href='vscode-notebook-cell:/Users/pedrogarcia/cs124_progset2/strs.ipynb#X24sZmlsZQ%3D%3D?line=35'>36</a>\u001b[0m results \u001b[39m=\u001b[39m []\n\u001b[1;32m     <a href='vscode-notebook-cell:/Users/pedrogarcia/cs124_progset2/strs.ipynb#X24sZmlsZQ%3D%3D?line=36'>37</a>\u001b[0m \u001b[39mfor\u001b[39;00m prob \u001b[39min\u001b[39;00m probabilities:\n\u001b[0;32m---> <a href='vscode-notebook-cell:/Users/pedrogarcia/cs124_progset2/strs.ipynb#X24sZmlsZQ%3D%3D?line=37'>38</a>\u001b[0m     result \u001b[39m=\u001b[39m count_at_prob(prob)\n\u001b[1;32m     <a href='vscode-notebook-cell:/Users/pedrogarcia/cs124_progset2/strs.ipynb#X24sZmlsZQ%3D%3D?line=38'>39</a>\u001b[0m     results\u001b[39m.\u001b[39mappend(result)\n\u001b[1;32m     <a href='vscode-notebook-cell:/Users/pedrogarcia/cs124_progset2/strs.ipynb#X24sZmlsZQ%3D%3D?line=40'>41</a>\u001b[0m \u001b[39mreturn\u001b[39;00m probabilities, results\n",
      "\u001b[1;32m/Users/pedrogarcia/cs124_progset2/strs.ipynb Cell 11\u001b[0m line \u001b[0;36m2\n\u001b[1;32m     <a href='vscode-notebook-cell:/Users/pedrogarcia/cs124_progset2/strs.ipynb#X24sZmlsZQ%3D%3D?line=24'>25</a>\u001b[0m         adj_mat[j][i] \u001b[39m=\u001b[39m val\n\u001b[1;32m     <a href='vscode-notebook-cell:/Users/pedrogarcia/cs124_progset2/strs.ipynb#X24sZmlsZQ%3D%3D?line=26'>27</a>\u001b[0m \u001b[39m# Find the cube of adjacency matrix\u001b[39;00m\n\u001b[0;32m---> <a href='vscode-notebook-cell:/Users/pedrogarcia/cs124_progset2/strs.ipynb#X24sZmlsZQ%3D%3D?line=27'>28</a>\u001b[0m adj_mat_cubed \u001b[39m=\u001b[39m conventional_matmult(adj_mat, conventional_matmult(adj_mat, adj_mat))\n\u001b[1;32m     <a href='vscode-notebook-cell:/Users/pedrogarcia/cs124_progset2/strs.ipynb#X24sZmlsZQ%3D%3D?line=28'>29</a>\u001b[0m num_triangles \u001b[39m=\u001b[39m \u001b[39m0\u001b[39m\n\u001b[1;32m     <a href='vscode-notebook-cell:/Users/pedrogarcia/cs124_progset2/strs.ipynb#X24sZmlsZQ%3D%3D?line=29'>30</a>\u001b[0m \u001b[39mfor\u001b[39;00m i \u001b[39min\u001b[39;00m \u001b[39mrange\u001b[39m(n):\n",
      "\u001b[1;32m/Users/pedrogarcia/cs124_progset2/strs.ipynb Cell 11\u001b[0m line \u001b[0;36m6\n\u001b[1;32m     <a href='vscode-notebook-cell:/Users/pedrogarcia/cs124_progset2/strs.ipynb#X24sZmlsZQ%3D%3D?line=58'>59</a>\u001b[0m     \u001b[39msum\u001b[39m \u001b[39m=\u001b[39m \u001b[39m0\u001b[39m\n\u001b[1;32m     <a href='vscode-notebook-cell:/Users/pedrogarcia/cs124_progset2/strs.ipynb#X24sZmlsZQ%3D%3D?line=59'>60</a>\u001b[0m     \u001b[39mfor\u001b[39;00m k \u001b[39min\u001b[39;00m \u001b[39mrange\u001b[39m(n):\n\u001b[0;32m---> <a href='vscode-notebook-cell:/Users/pedrogarcia/cs124_progset2/strs.ipynb#X24sZmlsZQ%3D%3D?line=60'>61</a>\u001b[0m         \u001b[39msum\u001b[39m \u001b[39m+\u001b[39m\u001b[39m=\u001b[39m mat1[i][k] \u001b[39m*\u001b[39m mat2[k][j]       \n\u001b[1;32m     <a href='vscode-notebook-cell:/Users/pedrogarcia/cs124_progset2/strs.ipynb#X24sZmlsZQ%3D%3D?line=61'>62</a>\u001b[0m     new_row\u001b[39m.\u001b[39mappend(\u001b[39msum\u001b[39m)    \n\u001b[1;32m     <a href='vscode-notebook-cell:/Users/pedrogarcia/cs124_progset2/strs.ipynb#X24sZmlsZQ%3D%3D?line=62'>63</a>\u001b[0m new_mat\u001b[39m.\u001b[39mappend(new_row)\n",
      "\u001b[0;31mKeyboardInterrupt\u001b[0m: "
     ]
    }
   ],
   "source": [
    "expected_probabilities, expected_results = expectation_function(1024)\n",
    "observed_probabilities, observed_results = counttriangles(1024)"
   ]
  },
  {
   "cell_type": "code",
   "execution_count": 145,
   "metadata": {},
   "outputs": [
    {
     "name": "stdout",
     "output_type": "stream",
     "text": [
      "[178.43302400000002, 1427.4641920000001, 4817.691647999999, 11419.713536000001, 22304.128000000004]\n"
     ]
    }
   ],
   "source": [
    "print(expected_results)"
   ]
  },
  {
   "cell_type": "code",
   "execution_count": 147,
   "metadata": {},
   "outputs": [
    {
     "name": "stdout",
     "output_type": "stream",
     "text": [
      "[141, 1434, 4906, 11741, 22071]\n"
     ]
    }
   ],
   "source": [
    "print(observed_results)"
   ]
  },
  {
   "cell_type": "code",
   "execution_count": 144,
   "metadata": {},
   "outputs": [
    {
     "data": {
      "image/png": "[encoded data removed]",
      "text/plain": [
       "<Figure size 640x480 with 1 Axes>"
      ]
     },
     "metadata": {},
     "output_type": "display_data"
    }
   ],
   "source": [
    "bar_width = 0.35\n",
    "fig, ax = plt.subplots()\n",
    "positions1 = np.arange(len(expected_probabilities))\n",
    "positions2 = [pos + bar_width for pos in positions1]\n",
    "\n",
    "ax.bar(positions1, expected_results, bar_width, label='Expected', color='b')\n",
    "ax.bar(positions2, observed_results, bar_width, label='Observed', color='r')\n",
    "\n",
    "ax.set_xlabel('Probabilities')\n",
    "ax.set_ylabel('Number of triangles')\n",
    "ax.set_title('Comparison of Expected and Observed Number of Triangles')\n",
    "ax.set_xticks(positions1 + bar_width / 2)\n",
    "ax.set_xticklabels([str(p) for p in expected_probabilities])\n",
    "ax.legend()\n",
    "\n",
    "plt.tight_layout()\n",
    "plt.show()\n"
   ]
  },
  {
   "cell_type": "code",
   "execution_count": null,
   "metadata": {},
   "outputs": [],
   "source": []
  },
  {
   "cell_type": "code",
   "execution_count": null,
   "metadata": {},
   "outputs": [],
   "source": []
  }
 ],
 "metadata": {
  "kernelspec": {
   "display_name": "Python 3",
   "language": "python",
   "name": "python3"
  },
  "language_info": {
   "codemirror_mode": {
    "name": "ipython",
    "version": 3
   },
   "file_extension": ".py",
   "mimetype": "text/x-python",
   "name": "python",
   "nbconvert_exporter": "python",
   "pygments_lexer": "ipython3",
   "version": "3.11.7"
  },
  "orig_nbformat": 4
 },
 "nbformat": 4,
 "nbformat_minor": 2
}
